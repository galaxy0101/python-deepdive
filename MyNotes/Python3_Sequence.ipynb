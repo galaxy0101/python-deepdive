{
 "cells": [
  {
   "cell_type": "markdown",
   "metadata": {},
   "source": [
    "## Sequence\n",
    "Beware of concatenation of mutables\n",
    "Repeation has the same issue"
   ]
  },
  {
   "cell_type": "code",
   "execution_count": 4,
   "metadata": {},
   "outputs": [
    {
     "data": {
      "text/plain": [
       "[[0, 0], [0, 0]]"
      ]
     },
     "execution_count": 4,
     "metadata": {},
     "output_type": "execute_result"
    }
   ],
   "source": [
    "x = [[0, 0]]\n",
    "a = x + x\n",
    "a"
   ]
  },
  {
   "cell_type": "code",
   "execution_count": 6,
   "metadata": {},
   "outputs": [
    {
     "data": {
      "text/plain": [
       "True"
      ]
     },
     "execution_count": 6,
     "metadata": {},
     "output_type": "execute_result"
    }
   ],
   "source": [
    "id(a[0]) == id(a[1])"
   ]
  },
  {
   "cell_type": "code",
   "execution_count": 8,
   "metadata": {},
   "outputs": [
    {
     "data": {
      "text/plain": [
       "[(0, 'a'),\n",
       " (1, 's'),\n",
       " (2, 'd'),\n",
       " (3, 'f'),\n",
       " (4, ' '),\n",
       " (5, 'i'),\n",
       " (6, 's'),\n",
       " (7, ' '),\n",
       " (8, 'n'),\n",
       " (9, 'o'),\n",
       " (10, 't'),\n",
       " (11, ' '),\n",
       " (12, 'u'),\n",
       " (13, 'n'),\n",
       " (14, 'i'),\n",
       " (15, 'x')]"
      ]
     },
     "execution_count": 8,
     "metadata": {},
     "output_type": "execute_result"
    }
   ],
   "source": [
    "s = 'asdf is not unix'\n",
    "list(enumerate(s))"
   ]
  },
  {
   "cell_type": "code",
   "execution_count": 11,
   "metadata": {},
   "outputs": [
    {
     "data": {
      "text/plain": [
       "8"
      ]
     },
     "execution_count": 11,
     "metadata": {},
     "output_type": "execute_result"
    }
   ],
   "source": [
    "s.index('n')"
   ]
  },
  {
   "cell_type": "markdown",
   "metadata": {},
   "source": [
    "You will get an Exception if looking for element that does not exist"
   ]
  },
  {
   "cell_type": "code",
   "execution_count": 14,
   "metadata": {},
   "outputs": [
    {
     "ename": "ValueError",
     "evalue": "substring not found",
     "output_type": "error",
     "traceback": [
      "\u001b[0;31m---------------------------------------------------------------------------\u001b[0m",
      "\u001b[0;31mValueError\u001b[0m                                Traceback (most recent call last)",
      "\u001b[0;32m<ipython-input-14-3d8ee9b57202>\u001b[0m in \u001b[0;36m<module>\u001b[0;34m()\u001b[0m\n\u001b[0;32m----> 1\u001b[0;31m \u001b[0ms\u001b[0m\u001b[0;34m.\u001b[0m\u001b[0mindex\u001b[0m\u001b[0;34m(\u001b[0m\u001b[0;34m'z'\u001b[0m\u001b[0;34m)\u001b[0m\u001b[0;34m\u001b[0m\u001b[0m\n\u001b[0m",
      "\u001b[0;31mValueError\u001b[0m: substring not found"
     ]
    }
   ],
   "source": [
    "s.index('z')\n"
   ]
  },
  {
   "cell_type": "code",
   "execution_count": 16,
   "metadata": {},
   "outputs": [
    {
     "name": "stdout",
     "output_type": "stream",
     "text": [
      "Oops!\n"
     ]
    }
   ],
   "source": [
    "try:\n",
    "    s.index('z')\n",
    "except ValueError:\n",
    "    print(\"Oops!\")"
   ]
  },
  {
   "cell_type": "markdown",
   "metadata": {},
   "source": [
    "### useful methods\n",
    "s.clear()\n",
    "s.append(x)\n",
    "s.insert(i, x)\n",
    "s.extend(iterable)\n",
    "s.pop(index)\n",
    "\n",
    "s.remove(x)\n",
    "s.reverse()\n",
    "s.copy()"
   ]
  },
  {
   "cell_type": "markdown",
   "metadata": {},
   "source": [
    "### Storage cost"
   ]
  },
  {
   "cell_type": "code",
   "execution_count": 2,
   "metadata": {},
   "outputs": [
    {
     "name": "stdout",
     "output_type": "stream",
     "text": [
      "0 items: 64\n",
      "1 items: 96, delta=32\n",
      "2 items: 96, delta=0\n",
      "3 items: 96, delta=0\n",
      "4 items: 96, delta=0\n",
      "5 items: 128, delta=32\n",
      "6 items: 128, delta=0\n",
      "7 items: 128, delta=0\n",
      "8 items: 128, delta=0\n",
      "9 items: 192, delta=64\n",
      "10 items: 192, delta=0\n",
      "11 items: 192, delta=0\n",
      "12 items: 192, delta=0\n",
      "13 items: 192, delta=0\n",
      "14 items: 192, delta=0\n",
      "15 items: 192, delta=0\n",
      "16 items: 192, delta=0\n",
      "17 items: 264, delta=72\n",
      "18 items: 264, delta=0\n",
      "19 items: 264, delta=0\n",
      "20 items: 264, delta=0\n",
      "21 items: 264, delta=0\n",
      "22 items: 264, delta=0\n",
      "23 items: 264, delta=0\n",
      "24 items: 264, delta=0\n",
      "25 items: 264, delta=0\n",
      "26 items: 344, delta=80\n",
      "27 items: 344, delta=0\n",
      "28 items: 344, delta=0\n",
      "29 items: 344, delta=0\n",
      "30 items: 344, delta=0\n",
      "31 items: 344, delta=0\n",
      "32 items: 344, delta=0\n",
      "33 items: 344, delta=0\n",
      "34 items: 344, delta=0\n",
      "35 items: 344, delta=0\n",
      "36 items: 432, delta=88\n",
      "37 items: 432, delta=0\n",
      "38 items: 432, delta=0\n",
      "39 items: 432, delta=0\n",
      "40 items: 432, delta=0\n",
      "41 items: 432, delta=0\n",
      "42 items: 432, delta=0\n",
      "43 items: 432, delta=0\n",
      "44 items: 432, delta=0\n",
      "45 items: 432, delta=0\n",
      "46 items: 432, delta=0\n",
      "47 items: 528, delta=96\n",
      "48 items: 528, delta=0\n",
      "49 items: 528, delta=0\n",
      "50 items: 528, delta=0\n",
      "51 items: 528, delta=0\n",
      "52 items: 528, delta=0\n",
      "53 items: 528, delta=0\n",
      "54 items: 528, delta=0\n",
      "55 items: 528, delta=0\n",
      "56 items: 528, delta=0\n",
      "57 items: 528, delta=0\n",
      "58 items: 528, delta=0\n",
      "59 items: 640, delta=112\n",
      "60 items: 640, delta=0\n",
      "61 items: 640, delta=0\n",
      "62 items: 640, delta=0\n",
      "63 items: 640, delta=0\n",
      "64 items: 640, delta=0\n",
      "65 items: 640, delta=0\n",
      "66 items: 640, delta=0\n",
      "67 items: 640, delta=0\n",
      "68 items: 640, delta=0\n",
      "69 items: 640, delta=0\n",
      "70 items: 640, delta=0\n",
      "71 items: 640, delta=0\n",
      "72 items: 640, delta=0\n",
      "73 items: 768, delta=128\n",
      "74 items: 768, delta=0\n",
      "75 items: 768, delta=0\n",
      "76 items: 768, delta=0\n",
      "77 items: 768, delta=0\n",
      "78 items: 768, delta=0\n",
      "79 items: 768, delta=0\n",
      "80 items: 768, delta=0\n",
      "81 items: 768, delta=0\n",
      "82 items: 768, delta=0\n",
      "83 items: 768, delta=0\n",
      "84 items: 768, delta=0\n",
      "85 items: 768, delta=0\n",
      "86 items: 768, delta=0\n",
      "87 items: 768, delta=0\n",
      "88 items: 768, delta=0\n",
      "89 items: 912, delta=144\n",
      "90 items: 912, delta=0\n",
      "91 items: 912, delta=0\n",
      "92 items: 912, delta=0\n",
      "93 items: 912, delta=0\n",
      "94 items: 912, delta=0\n",
      "95 items: 912, delta=0\n",
      "96 items: 912, delta=0\n",
      "97 items: 912, delta=0\n",
      "98 items: 912, delta=0\n",
      "99 items: 912, delta=0\n",
      "100 items: 912, delta=0\n",
      "101 items: 912, delta=0\n",
      "102 items: 912, delta=0\n",
      "103 items: 912, delta=0\n",
      "104 items: 912, delta=0\n",
      "105 items: 912, delta=0\n",
      "106 items: 912, delta=0\n",
      "107 items: 1072, delta=160\n",
      "108 items: 1072, delta=0\n",
      "109 items: 1072, delta=0\n",
      "110 items: 1072, delta=0\n",
      "111 items: 1072, delta=0\n",
      "112 items: 1072, delta=0\n",
      "113 items: 1072, delta=0\n",
      "114 items: 1072, delta=0\n",
      "115 items: 1072, delta=0\n",
      "116 items: 1072, delta=0\n",
      "117 items: 1072, delta=0\n",
      "118 items: 1072, delta=0\n",
      "119 items: 1072, delta=0\n",
      "120 items: 1072, delta=0\n",
      "121 items: 1072, delta=0\n",
      "122 items: 1072, delta=0\n",
      "123 items: 1072, delta=0\n",
      "124 items: 1072, delta=0\n",
      "125 items: 1072, delta=0\n",
      "126 items: 1072, delta=0\n",
      "127 items: 1248, delta=176\n"
     ]
    }
   ],
   "source": [
    "import sys\n",
    "c = []\n",
    "prev = sys.getsizeof(c)\n",
    "print(f'0 items: {prev}')\n",
    "for i in range(127):\n",
    "    c.append(i)\n",
    "    size_c = sys.getsizeof(c)\n",
    "    delta, prev = size_c - prev, size_c\n",
    "    print(f'{i + 1} items: {size_c}, delta={delta}')"
   ]
  },
  {
   "cell_type": "code",
   "execution_count": 5,
   "metadata": {},
   "outputs": [
    {
     "data": {
      "text/plain": [
       "0.3686201120000021"
      ]
     },
     "execution_count": 5,
     "metadata": {},
     "output_type": "execute_result"
    }
   ],
   "source": [
    "from timeit import timeit\n",
    "t = tuple(range(100_000))\n",
    "l = list(t)\n",
    "timeit('t[99_999]', globals=globals(), number=10_000_000)"
   ]
  },
  {
   "cell_type": "code",
   "execution_count": 8,
   "metadata": {},
   "outputs": [
    {
     "data": {
      "text/plain": [
       "0.4259554749999097"
      ]
     },
     "execution_count": 8,
     "metadata": {},
     "output_type": "execute_result"
    }
   ],
   "source": [
    "timeit('l[99_999]', globals=globals(), number=10_000_000)"
   ]
  },
  {
   "cell_type": "markdown",
   "metadata": {},
   "source": [
    "### Why copy sequences?\n",
    "Mutable sequences can be modified, you want to work with sequence cannot be modified to play safe\n",
    "We don't want functions to modify the argument, or inplace change\n",
    "\n",
    "Shallow copy still points to the same object if the element itself is mutable\n",
    "Shallow copy copied the container, but not the elment inside"
   ]
  },
  {
   "cell_type": "code",
   "execution_count": 9,
   "metadata": {},
   "outputs": [
    {
     "data": {
      "text/plain": [
       "True"
      ]
     },
     "execution_count": 9,
     "metadata": {},
     "output_type": "execute_result"
    }
   ],
   "source": [
    "s = [[10, 20], [30, 40]]\n",
    "cp = s.copy()\n",
    "cp[0] is s[0]"
   ]
  }
 ],
 "metadata": {
  "kernelspec": {
   "display_name": "Python 3",
   "language": "python",
   "name": "python3"
  },
  "language_info": {
   "codemirror_mode": {
    "name": "ipython",
    "version": 3
   },
   "file_extension": ".py",
   "mimetype": "text/x-python",
   "name": "python",
   "nbconvert_exporter": "python",
   "pygments_lexer": "ipython3",
   "version": "3.7.3"
  }
 },
 "nbformat": 4,
 "nbformat_minor": 2
}
